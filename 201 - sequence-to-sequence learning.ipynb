{
 "cells": [
  {
   "cell_type": "markdown",
   "metadata": {},
   "source": [
    "## Sequence-to-sequence Learning\n",
    "\n",
    "### Summary\n",
    "In this notebook, we will follow the newly published [tutorial](https://blog.keras.io/) on keras's official website. Objective of this study is to demonstrate how to build a \n",
    "model to convert sequence from one-domain to sequences in other-domain.\n",
    "The source code from the tutorial can be found at [github](https://github.com/fchollet/keras/blob/master/examples/lstm_seq2seq.py)\n",
    "\n",
    "**model prediction flow**:\n",
    "input sequence of variable length --> model --> output sequence of variable length\n",
    "\n",
    "model architect:\n",
    "* A RNN layer acts as \"encoder\": it processes the input sequence and returns its own internal state. We discard the outputs of the encoder RNN, only recovering the state. The state will serve as the \"context\" or \"conditioning\" of the decoder in the next step.\n",
    "\n",
    "* Another RNN layer (or stack thereof) acts as \"decoder\": it is trained to predict the next character of the target sequence, given the previous characters of the target sequence."
   ]
  },
  {
   "cell_type": "code",
   "execution_count": 1,
   "metadata": {
    "collapsed": false
   },
   "outputs": [
    {
     "name": "stderr",
     "output_type": "stream",
     "text": [
      "Using TensorFlow backend.\n"
     ]
    }
   ],
   "source": [
    "import os\n",
    "import keras \n",
    "import numpy as np\n",
    "import scipy as sp\n",
    "import pandas as pd\n",
    "import matplotlib.pyplot as plt\n",
    "\n",
    "%matplotlib inline"
   ]
  },
  {
   "cell_type": "code",
   "execution_count": 15,
   "metadata": {
    "collapsed": true
   },
   "outputs": [],
   "source": [
    "batch_size = 64\n",
    "epochs = 100\n",
    "latent_dim = 256\n",
    "num_samples = 10000\n",
    "data_path = os.path.join(os.getcwd(), 'data', 'cmn-eng', 'cmn.txt')"
   ]
  },
  {
   "cell_type": "markdown",
   "metadata": {},
   "source": [
    "### Load data for training the translator"
   ]
  },
  {
   "cell_type": "code",
   "execution_count": 16,
   "metadata": {
    "collapsed": true
   },
   "outputs": [],
   "source": [
    "if not os.path.isfile(data_path):\n",
    "    msg = \"ERROR! data file is not found ({}).\".format(data_path)\n",
    "    print(msg)"
   ]
  },
  {
   "cell_type": "code",
   "execution_count": 17,
   "metadata": {
    "collapsed": true
   },
   "outputs": [],
   "source": [
    "input_texts = []\n",
    "target_texts = []\n",
    "input_characters = set()\n",
    "target_characters = set()\n",
    "lines = open(data_path).read().split('\\n')\n",
    "\n",
    "for line in lines[:min(num_samples, len(lines) - 1)]:\n",
    "    \n",
    "    input_text, target_text = line.split('\\t')\n",
    "    target_text = '\\t' + target_text + '\\n'\n",
    "    \n",
    "    input_texts.append(input_text)\n",
    "    target_texts.append(target_text)\n",
    "    \n",
    "    for char in input_text:\n",
    "        if char not in input_characters:\n",
    "            input_characters.add(char)\n",
    "    \n",
    "    for char in target_text:\n",
    "        if char not in target_characters:\n",
    "            target_characters.add(char)\n",
    "            \n",
    "input_characters = sorted(list(input_characters))\n",
    "target_characters = sorted(list(target_characters))"
   ]
  },
  {
   "cell_type": "markdown",
   "metadata": {},
   "source": [
    "derive the parameters to define the configuration of encoder + decoder system from the data."
   ]
  },
  {
   "cell_type": "code",
   "execution_count": 20,
   "metadata": {
    "collapsed": false
   },
   "outputs": [
    {
     "name": "stdout",
     "output_type": "stream",
     "text": [
      "Number of samples:  10000\n",
      "Number of unique input tokens:  73\n",
      "Number of unique ouput tokens:  2637\n",
      "Max sequence length for inputs:  31\n",
      "Max sequence length for outputs:  22\n"
     ]
    }
   ],
   "source": [
    "num_encoder_tokens = len(input_characters)\n",
    "num_decoder_tokens = len(target_characters)\n",
    "max_encoder_seq_length = max([len(txt) for txt in input_texts])\n",
    "max_decoder_seq_length = max([len(txt) for txt in target_texts])\n",
    "\n",
    "print('Number of samples: ', len(input_texts))\n",
    "print('Number of unique input tokens: ', num_encoder_tokens)\n",
    "print('Number of unique ouput tokens: ', num_decoder_tokens)\n",
    "print('Max sequence length for inputs: ', max_encoder_seq_length)\n",
    "print('Max sequence length for outputs: ', max_decoder_seq_length)"
   ]
  },
  {
   "cell_type": "markdown",
   "metadata": {},
   "source": [
    "#### Data Preparation\n",
    "In this section, we will split the original data into three sets. They are:\n",
    "* **encoder_input_data**: is a 3D array of shape num_pairs, max_english_sentence_length, num_english_characters)\n",
    "* **decoder_input_data**: is a 3D array of shape (num_pairs, max_chinese_sentence_length, num_chinese_characters)\n",
    "* **decoder_target_data**: is the same as decoder_input_data but offset by one timestamp.\n",
    "\n",
    "The task of this model development is to train a seq2seq model to predict decoder_target_data given decoder_input_data + encoder_input_data."
   ]
  },
  {
   "cell_type": "code",
   "execution_count": 22,
   "metadata": {
    "collapsed": true
   },
   "outputs": [],
   "source": [
    "input_token_index = dict(\n",
    "    [(char, ii) for ii, char in enumerate(input_characters)])\n",
    "target_token_index = dict(\n",
    "    [(char, ii) for ii, char in enumerate(target_characters)])\n",
    "\n",
    "encoder_input_data = np.zeros(\n",
    "    (len(input_texts), max_encoder_seq_length, num_encoder_tokens), \n",
    "    dtype='float32')\n",
    "decoder_input_data = np.zeros(\n",
    "    (len(input_texts), max_decoder_seq_length, num_decoder_tokens), \n",
    "    dtype='float32')\n",
    "decoder_target_data = np.zeros(\n",
    "    (len(input_texts), max_decoder_seq_length, num_decoder_tokens), \n",
    "    dtype='float32')\n",
    "\n",
    "zipped = zip(input_texts, target_texts)\n",
    "for ii, (input_text, target_text) in enumerate(zipped):\n",
    "    for tt, char in enumerate(input_text):\n",
    "        encoder_input_data[ii, tt, input_token_index[char]] = 1.\n",
    "    for tt, char in enumerate(target_text):\n",
    "        decoder_input_data[ii, tt, target_token_index[char]] = 1.\n",
    "        if tt > 0:\n",
    "            decoder_target_data[ii, tt-1, target_token_index[char]] = 1."
   ]
  },
  {
   "cell_type": "code",
   "execution_count": 25,
   "metadata": {
    "collapsed": false
   },
   "outputs": [
    {
     "data": {
      "text/plain": [
       "((31, 73), (31, 73))"
      ]
     },
     "execution_count": 25,
     "metadata": {},
     "output_type": "execute_result"
    }
   ],
   "source": [
    "encoder_input_data[0, ].shape, encoder_input_data[1, ].shape"
   ]
  },
  {
   "cell_type": "code",
   "execution_count": 26,
   "metadata": {
    "collapsed": false
   },
   "outputs": [
    {
     "data": {
      "text/plain": [
       "((22, 2637), (22, 2637))"
      ]
     },
     "execution_count": 26,
     "metadata": {},
     "output_type": "execute_result"
    }
   ],
   "source": [
    "decoder_input_data[0, ].shape, decoder_input_data[1, ].shape"
   ]
  },
  {
   "cell_type": "markdown",
   "metadata": {},
   "source": [
    "#### RNN constructor"
   ]
  },
  {
   "cell_type": "code",
   "execution_count": 30,
   "metadata": {
    "collapsed": true
   },
   "outputs": [],
   "source": [
    "from keras.models import Model\n",
    "from keras.layers import Input, LSTM, Dense\n",
    "\n",
    "# define an input sequence and process it\n",
    "encoder_inputs = Input(shape=(None, num_encoder_tokens))\n",
    "# return_state could allow RNN exports two pieace of information\n",
    "# 1) output of the model, and 2) the internal state\n",
    "encoder_lstm = LSTM(latent_dim, return_state=True)\n",
    "_, state_h, state_c = encoder_lstm(encoder_inputs)\n",
    "# we discard 'encoder_outputs' and only keep the stats\n",
    "encoder_states = [state_h, state_c]\n",
    "\n",
    "# set up the decoder, using 'encoder_states' as initial state.\n",
    "decoder_inputs = Input(shape=(None, num_decoder_tokens))\n",
    "# we set up our decoder to return full ouput sequences.\n",
    "# and to return internal states as well. We don't use the \n",
    "# return states in the training model, but we will use them\n",
    "# in the inference\n",
    "decoder_lstm = LSTM(latent_dim, return_sequences=True, return_state=True)\n",
    "decoder_outputs, _, _ = decoder_lstm(decoder_inputs, \n",
    "                                    initial_state=encoder_states)\n",
    "decoder_dense = Dense(num_decoder_tokens, activation='softmax')\n",
    "decoder_outputs = decoder_dense(decoder_outputs)\n",
    "\n",
    "# define the model that will turn \n",
    "# 'encoder_input_data' & 'decoder_input_data' into 'decoder_target_data'\n",
    "model = Model([encoder_inputs, decoder_inputs], decoder_outputs)"
   ]
  },
  {
   "cell_type": "code",
   "execution_count": 31,
   "metadata": {
    "collapsed": true
   },
   "outputs": [],
   "source": [
    "model.compile(optimizer='rmsprop', \n",
    "              loss='categorical_crossentropy')"
   ]
  },
  {
   "cell_type": "markdown",
   "metadata": {},
   "source": [
    "training precossing"
   ]
  },
  {
   "cell_type": "code",
   "execution_count": null,
   "metadata": {
    "collapsed": true
   },
   "outputs": [],
   "source": [
    "model.fit([encoder_input_data, decoder_input_data], \n",
    "          decoder_target_data, \n",
    "          batch_size=batch_size, \n",
    "          epochs=epochs,\n",
    "          validation_split=0.2)\n",
    "# save model\n",
    "outfile_path = os.path.join(os.getcwd(), 'models', 'seq2seq_eng2chn_charlevel.h5')\n",
    "model.save(outfile_path)"
   ]
  },
  {
   "cell_type": "markdown",
   "metadata": {},
   "source": [
    "### develop inference model"
   ]
  },
  {
   "cell_type": "code",
   "execution_count": null,
   "metadata": {
    "collapsed": true
   },
   "outputs": [],
   "source": [
    "import logging\n"
   ]
  }
 ],
 "metadata": {
  "kernelspec": {
   "display_name": "Python 3",
   "language": "python",
   "name": "python3"
  },
  "language_info": {
   "codemirror_mode": {
    "name": "ipython",
    "version": 3
   },
   "file_extension": ".py",
   "mimetype": "text/x-python",
   "name": "python",
   "nbconvert_exporter": "python",
   "pygments_lexer": "ipython3",
   "version": "3.6.0"
  }
 },
 "nbformat": 4,
 "nbformat_minor": 2
}
